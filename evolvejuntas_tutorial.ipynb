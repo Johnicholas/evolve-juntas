{
 "metadata": {
  "name": ""
 },
 "nbformat": 3,
 "nbformat_minor": 0,
 "worksheets": [
  {
   "cells": [
    {
     "cell_type": "heading",
     "level": 2,
     "metadata": {
      "slideshow": {
       "slide_type": "slide"
      }
     },
     "source": [
      "Evolving Juntas - A Tutorial"
     ]
    },
    {
     "cell_type": "code",
     "collapsed": false,
     "input": [
      "import evolvejuntas as e"
     ],
     "language": "python",
     "metadata": {
      "slideshow": {
       "slide_type": "fragment"
      }
     },
     "outputs": [],
     "prompt_number": 2
    },
    {
     "cell_type": "markdown",
     "metadata": {
      "slideshow": {
       "slide_type": "slide"
      }
     },
     "source": [
      "Recover relevant variables of the AND 6-junta over 100 variables \n",
      "\n",
      "The junta are chosen at random"
     ]
    },
    {
     "cell_type": "code",
     "collapsed": false,
     "input": [
      "e.recoverJuntas(k=6, n=100, hiddenFnName=\"and\")"
     ],
     "language": "python",
     "metadata": {
      "slideshow": {
       "slide_type": "-"
      }
     },
     "outputs": [
      {
       "output_type": "stream",
       "stream": "stdout",
       "text": [
        "k-junta creation RNG seed  : 1377846503\n",
        "Learning algorithm RNG seed: 1377846503\n",
        "n = 100\n",
        "k = 6\n",
        "Hidden boolean function = 0000000000000000000000000000000000000000000000000000000000000001\n",
        "True junta indices =   [ 5 13 20 50 75 87]\n",
        "Checking for constancy...\n",
        "Function is NOT constant. Learning its juntas...\n",
        "======== Round 1 ========\n",
        "Elapsed wall-clock time = 4.120 seconds"
       ]
      },
      {
       "output_type": "stream",
       "stream": "stdout",
       "text": [
        "\n",
        "Hypothesized indices = [ 5 13 20 50 75 87]\n",
        "#queries = 300000\n",
        "========================\n",
        "LEARNED juntas = [ 5 13 20 50 75 87]\n",
        "#juntas learned >= k. Exiting...\n",
        "_______________________________________________\n",
        "True junta indices      = [ 5 13 20 50 75 87]\n",
        "Recovered junta indices = [ 5 13 20 50 75 87]\n",
        "Match? : True\n",
        "\n",
        "Total number of queries = 301000\n",
        "Elapsed wall-clock time = 4.126 seconds\n"
       ]
      },
      {
       "metadata": {},
       "output_type": "pyout",
       "prompt_number": 14,
       "text": [
        "True"
       ]
      }
     ],
     "prompt_number": 14
    },
    {
     "cell_type": "markdown",
     "metadata": {
      "slideshow": {
       "slide_type": "slide"
      }
     },
     "source": [
      "Recover relevant variables of the OR 6-junta over 100 variables"
     ]
    },
    {
     "cell_type": "code",
     "collapsed": false,
     "input": [
      "e.recoverJuntas(k=6, n=100, hiddenFnName=\"or\")"
     ],
     "language": "python",
     "metadata": {
      "slideshow": {
       "slide_type": "-"
      }
     },
     "outputs": [
      {
       "output_type": "stream",
       "stream": "stdout",
       "text": [
        "k-junta creation RNG seed  : 1377846517\n",
        "Learning algorithm RNG seed: 1377846517\n",
        "n = 100\n",
        "k = 6\n",
        "Hidden boolean function = 0111111111111111111111111111111111111111111111111111111111111111\n",
        "True junta indices =   [ 1 43 47 60 70 85]\n",
        "Checking for constancy...\n",
        "Function is NOT constant. Learning its juntas...\n",
        "======== Round 1 ========\n",
        "Elapsed wall-clock time = 4.136 seconds"
       ]
      },
      {
       "output_type": "stream",
       "stream": "stdout",
       "text": [
        "\n",
        "Hypothesized indices = [ 1 43 47 60 70 85]\n",
        "#queries = 300000\n",
        "========================\n",
        "LEARNED juntas = [ 1 43 47 60 70 85]\n",
        "#juntas learned >= k. Exiting...\n",
        "_______________________________________________\n",
        "True junta indices      = [ 1 43 47 60 70 85]\n",
        "Recovered junta indices = [ 1 43 47 60 70 85]\n",
        "Match? : True\n",
        "\n",
        "Total number of queries = 301000\n",
        "Elapsed wall-clock time = 4.140 seconds\n"
       ]
      },
      {
       "metadata": {},
       "output_type": "pyout",
       "prompt_number": 15,
       "text": [
        "True"
       ]
      }
     ],
     "prompt_number": 15
    },
    {
     "cell_type": "markdown",
     "metadata": {
      "slideshow": {
       "slide_type": "slide"
      }
     },
     "source": [
      "Recover juntas of the XOR (i.e. parity) 6-junta over 100 variables"
     ]
    },
    {
     "cell_type": "code",
     "collapsed": false,
     "input": [
      "e.recoverJuntas(k=6, n=100, hiddenFnName=\"parity\")"
     ],
     "language": "python",
     "metadata": {
      "slideshow": {
       "slide_type": "-"
      }
     },
     "outputs": [
      {
       "output_type": "stream",
       "stream": "stdout",
       "text": [
        "k-junta creation RNG seed  : 1377846532\n",
        "Learning algorithm RNG seed: 1377846532\n",
        "n = 100\n",
        "k = 6\n",
        "Hidden boolean function = 0110100110010110100101100110100110010110011010010110100110010110\n",
        "True junta indices =   [ 1  5 44 55 92 94]\n",
        "Checking for constancy...\n",
        "Function is NOT constant. Learning its juntas...\n",
        "======== Round 1 ========\n",
        "Elapsed wall-clock time = 4.169 seconds"
       ]
      },
      {
       "output_type": "stream",
       "stream": "stdout",
       "text": [
        "\n",
        "Hypothesized indices = [ 1  5 44 55 92 94]\n",
        "#queries = 300000\n",
        "========================\n",
        "LEARNED juntas = [ 1  5 44 55 92 94]\n",
        "#juntas learned >= k. Exiting...\n",
        "_______________________________________________\n",
        "True junta indices      = [ 1  5 44 55 92 94]\n",
        "Recovered junta indices = [ 1  5 44 55 92 94]\n",
        "Match? : True\n",
        "\n",
        "Total number of queries = 301000\n",
        "Elapsed wall-clock time = 4.175 seconds\n"
       ]
      },
      {
       "metadata": {},
       "output_type": "pyout",
       "prompt_number": 16,
       "text": [
        "True"
       ]
      }
     ],
     "prompt_number": 16
    },
    {
     "cell_type": "markdown",
     "metadata": {
      "slideshow": {
       "slide_type": "slide"
      }
     },
     "source": [
      "Recover juntas of a randomly choosen 6-junta over 100 variables\n",
      "\n",
      "Both the hidden function and the relevant variables are chosen at random"
     ]
    },
    {
     "cell_type": "code",
     "collapsed": false,
     "input": [
      "e.recoverJuntas(k=6, n=100, hiddenFnName=\"random\")"
     ],
     "language": "python",
     "metadata": {
      "slideshow": {
       "slide_type": "-"
      }
     },
     "outputs": [
      {
       "output_type": "stream",
       "stream": "stdout",
       "text": [
        "k-junta creation RNG seed  : 1377674915\n",
        "Learning algorithm RNG seed: 1377846595\n",
        "n = 100\n",
        "k = 6\n",
        "Hidden boolean function = 0001000100100011101001010100100101111000000000101101101011110110\n",
        "True junta indices =   [11 22 33 55 85 90]\n",
        "Checking for constancy...\n",
        "Function is NOT constant. Learning its juntas...\n",
        "======== Round 1 ========\n",
        "Elapsed wall-clock time = 4.212 seconds"
       ]
      },
      {
       "output_type": "stream",
       "stream": "stdout",
       "text": [
        "\n",
        "Hypothesized indices = [11 22 33 55 85]\n",
        "#queries = 300000\n",
        "========================\n",
        "LEARNED juntas = [11 22 33 55 85]\n",
        "Checking for constancy under the following restriction \n",
        "[(11, 0), (22, 0), (33, 0), (55, 0), (85, 0)]\n",
        "Function seems constant under the restriction. Moving on...\n",
        "Checking for constancy under the following restriction \n",
        "[(11, 0), (22, 0), (33, 0), (55, 0), (85, 1)]\n",
        "Function is NOT constant. Learning its juntas under the restriction...\n",
        "\t======== Round 1 ========\n",
        "\tElapsed wall-clock time = 4.117 seconds"
       ]
      },
      {
       "output_type": "stream",
       "stream": "stdout",
       "text": [
        "\n",
        "\tHypothesized indices = [90]\n",
        "\t#queries = 300000\n",
        "\t========================\n",
        "\tLEARNED juntas = [90]\n",
        "\t#juntas learned >= k. Exiting...\n",
        "#juntas learned >= k. Exiting...\n",
        "_______________________________________________\n",
        "True junta indices      = [11 22 33 55 85 90]\n",
        "Recovered junta indices = [11 22 33 55 85 90]\n",
        "Match? : True\n",
        "\n",
        "Total number of queries = 606000\n",
        "Elapsed wall-clock time = 8.344 seconds\n"
       ]
      },
      {
       "metadata": {},
       "output_type": "pyout",
       "prompt_number": 18,
       "text": [
        "True"
       ]
      }
     ],
     "prompt_number": 18
    },
    {
     "cell_type": "markdown",
     "metadata": {
      "slideshow": {
       "slide_type": "slide"
      }
     },
     "source": [
      "Use the junta creation RNG seed from the previous run to create a 6-junta identical the previous one\n",
      "\n",
      "+ The k-junta in both runs are the same but note the difference in the runs\n",
      "+ The algorithm has its own random seed, which can be set using the optional parameter `algoRngSeed` "
     ]
    },
    {
     "cell_type": "code",
     "collapsed": false,
     "input": [
      "e.recoverJuntas(k=6, n=100, hiddenFnName=\"random\", \n",
      "                juntaCreationRngSeed=1377674915)"
     ],
     "language": "python",
     "metadata": {
      "slideshow": {
       "slide_type": "-"
      }
     },
     "outputs": [
      {
       "output_type": "stream",
       "stream": "stdout",
       "text": [
        "k-junta creation RNG seed  : 1377674915\n",
        "Learning algorithm RNG seed: 1377846626\n",
        "n = 100\n",
        "k = 6\n",
        "Hidden boolean function = 0001000100100011101001010100100101111000000000101101101011110110\n",
        "True junta indices =   [11 22 33 55 85 90]\n",
        "Checking for constancy...\n",
        "Function is NOT constant. Learning its juntas...\n",
        "======== Round 1 ========\n",
        "Elapsed wall-clock time = 4.158 seconds"
       ]
      },
      {
       "output_type": "stream",
       "stream": "stdout",
       "text": [
        "\n",
        "Hypothesized indices = [11 22 55 85]\n",
        "#queries = 300000\n",
        "========================\n",
        "LEARNED juntas = [11 22 55 85]\n",
        "Checking for constancy under the following restriction \n",
        "[(11, 0), (22, 0), (55, 0), (85, 0)]\n",
        "Function seems constant under the restriction. Moving on...\n",
        "Checking for constancy under the following restriction \n",
        "[(11, 0), (22, 0), (55, 0), (85, 1)]\n",
        "Function is NOT constant. Learning its juntas under the restriction...\n",
        "\t======== Round 1 ========\n",
        "\tElapsed wall-clock time = 4.167 seconds"
       ]
      },
      {
       "output_type": "stream",
       "stream": "stdout",
       "text": [
        "\n",
        "\tHypothesized indices = [33 90]\n",
        "\t#queries = 300000\n",
        "\t========================\n",
        "\tLEARNED juntas = [33 90]\n",
        "\t#juntas learned >= k. Exiting...\n",
        "#juntas learned >= k. Exiting...\n",
        "_______________________________________________\n",
        "True junta indices      = [11 22 33 55 85 90]\n",
        "Recovered junta indices = [11 22 33 55 85 90]\n",
        "Match? : True\n",
        "\n",
        "Total number of queries = 610000\n",
        "Elapsed wall-clock time = 8.345 seconds\n"
       ]
      },
      {
       "metadata": {},
       "output_type": "pyout",
       "prompt_number": 19,
       "text": [
        "True"
       ]
      }
     ],
     "prompt_number": 19
    },
    {
     "cell_type": "markdown",
     "metadata": {
      "slideshow": {
       "slide_type": "slide"
      }
     },
     "source": [
      "It takes three rounds of evolution to recover the relevant variables of the 6-junta generated by the RNG seed `1377670822`\n",
      "\n",
      "The maximum possible rounds of evolution is $k$  "
     ]
    },
    {
     "cell_type": "code",
     "collapsed": false,
     "input": [
      "e.recoverJuntas(k=6, n=33, hiddenFnName=\"random\", \n",
      "                juntaCreationRngSeed=1377510322)"
     ],
     "language": "python",
     "metadata": {
      "slideshow": {
       "slide_type": "-"
      }
     },
     "outputs": [
      {
       "output_type": "stream",
       "stream": "stdout",
       "text": [
        "k-junta creation RNG seed  : 1377510322\n",
        "Learning algorithm RNG seed: 1377846685\n",
        "n = 33\n",
        "k = 6\n",
        "Hidden boolean function = 1101010010011110100101011011111001110111011101001100101011110110\n",
        "True junta indices =   [ 1 12 14 20 24 30]\n",
        "Checking for constancy...\n",
        "Function is NOT constant. Learning its juntas...\n",
        "======== Round 1 ========\n",
        "Elapsed wall-clock time = 2.777 seconds"
       ]
      },
      {
       "output_type": "stream",
       "stream": "stdout",
       "text": [
        "\n",
        "Hypothesized indices = [ 1 14 20 30]\n",
        "#queries = 300000\n",
        "========================\n",
        "LEARNED juntas = [ 1 14 20 30]\n",
        "Checking for constancy under the following restriction \n",
        "[(1, 0), (14, 0), (20, 0), (30, 0)]\n",
        "Function is NOT constant. Learning its juntas under the restriction...\n",
        "\t======== Round 1 ========\n",
        "\tElapsed wall-clock time = 2.809 seconds"
       ]
      },
      {
       "output_type": "stream",
       "stream": "stdout",
       "text": [
        "\n",
        "\tHypothesized indices = [24]\n",
        "\t#queries = 300000\n",
        "\t========================\n",
        "\tLEARNED juntas = [24]\n",
        "\tChecking for constancy under the following restriction \n",
        "\t[(1, 0), (14, 0), (20, 0), (30, 0), (24, 0)]\n",
        "\tFunction seems constant under the restriction. Moving on...\n",
        "\tChecking for constancy under the following restriction \n",
        "\t[(1, 0), (14, 0), (20, 0), (30, 0), (24, 1)]\n",
        "\tFunction seems constant under the restriction. Moving on...\n",
        "Checking for constancy under the following restriction \n",
        "[(1, 0), (14, 0), (20, 0), (30, 1), (24, 0)]\n",
        "Function is NOT constant. Learning its juntas under the restriction...\n",
        "\t======== Round 1 ========\n",
        "\tElapsed wall-clock time = 2.855 seconds"
       ]
      },
      {
       "output_type": "stream",
       "stream": "stdout",
       "text": [
        "\n",
        "\tHypothesized indices = [12]\n",
        "\t#queries = 300000\n",
        "\t========================\n",
        "\tLEARNED juntas = [12]\n",
        "\t#juntas learned >= k. Exiting...\n",
        "#juntas learned >= k. Exiting...\n",
        "_______________________________________________\n",
        "True junta indices      = [ 1 12 14 20 24 30]\n",
        "Recovered junta indices = [ 1 12 14 20 24 30]\n",
        "Match? : True\n",
        "\n",
        "Total number of queries = 911000\n",
        "Elapsed wall-clock time = 8.458 seconds\n"
       ]
      },
      {
       "metadata": {},
       "output_type": "pyout",
       "prompt_number": 20,
       "text": [
        "True"
       ]
      }
     ],
     "prompt_number": 20
    },
    {
     "cell_type": "markdown",
     "metadata": {
      "slideshow": {
       "slide_type": "slide"
      }
     },
     "source": [
      "To visualize how the instance gets solved use `visualize=True`"
     ]
    },
    {
     "cell_type": "code",
     "collapsed": false,
     "input": [
      "e.recoverJuntas(k=6, n=33, hiddenFnName=\"random\", \n",
      "                juntaCreationRngSeed=1377510322, \n",
      "                algoRngSeed=1377510786, visualize=True)"
     ],
     "language": "python",
     "metadata": {},
     "outputs": []
    },
    {
     "cell_type": "markdown",
     "metadata": {},
     "source": [
      "Visualization becomes unwieldy at large values of $n$. So use this feature carefully. "
     ]
    },
    {
     "cell_type": "markdown",
     "metadata": {
      "slideshow": {
       "slide_type": "slide"
      }
     },
     "source": [
      "Increasing $k$ to 8"
     ]
    },
    {
     "cell_type": "code",
     "collapsed": false,
     "input": [
      "e.recoverJuntas(k=8, n=100, hiddenFnName=\"random\")"
     ],
     "language": "python",
     "metadata": {},
     "outputs": [
      {
       "output_type": "stream",
       "stream": "stdout",
       "text": [
        "k-junta creation RNG seed  : 1377510917\n",
        "Learning algorithm RNG seed: 1377846780\n",
        "n = 100\n",
        "k = 8\n",
        "Hidden boolean function = 00001011101010101011001110110001111000111001000001011000111011001000001010010001110110011101001111100000101101010010001011101010...followed by 128 bits\n",
        "True junta indices =   [ 0  3  6 19 32 35 78 95]\n",
        "Checking for constancy...\n",
        "Function is NOT constant. Learning its juntas...\n",
        "======== Round 1 ========\n",
        "Elapsed wall-clock time = 4.142 seconds"
       ]
      },
      {
       "output_type": "stream",
       "stream": "stdout",
       "text": [
        "\n",
        "Hypothesized indices = [ 0  6 32 35 78 95]\n",
        "#queries = 300000\n",
        "========================\n",
        "LEARNED juntas = [ 0  6 32 35 78 95]\n",
        "Checking for constancy under the following restriction \n",
        "[(0, 0), (6, 0), (32, 0), (35, 0), (78, 0), (95, 0)]\n",
        "Function is NOT constant. Learning its juntas under the restriction...\n",
        "\t======== Round 1 ========\n",
        "\tElapsed wall-clock time = 4.138 seconds"
       ]
      },
      {
       "output_type": "stream",
       "stream": "stdout",
       "text": [
        "\n",
        "\tHypothesized indices = [ 3 19]\n",
        "\t#queries = 300000\n",
        "\t========================\n",
        "\tLEARNED juntas = [ 3 19]\n",
        "\t#juntas learned >= k. Exiting...\n",
        "#juntas learned >= k. Exiting...\n",
        "_______________________________________________\n",
        "True junta indices      = [ 0  3  6 19 32 35 78 95]\n",
        "Recovered junta indices = [ 0  3  6 19 32 35 78 95]\n",
        "Match? : True\n",
        "\n",
        "Total number of queries = 602000\n",
        "Elapsed wall-clock time = 8.288 seconds\n"
       ]
      },
      {
       "metadata": {},
       "output_type": "pyout",
       "prompt_number": 22,
       "text": [
        "True"
       ]
      }
     ],
     "prompt_number": 22
    },
    {
     "cell_type": "markdown",
     "metadata": {
      "slideshow": {
       "slide_type": "slide"
      }
     },
     "source": [
      "Increasing $n$ to 1,000 "
     ]
    },
    {
     "cell_type": "code",
     "collapsed": false,
     "input": [
      "e.recoverJuntas(k=8, n=1000, hiddenFnName=\"random\", \n",
      "                juntaCreationRngSeed=1377510917)"
     ],
     "language": "python",
     "metadata": {},
     "outputs": [
      {
       "output_type": "stream",
       "stream": "stdout",
       "text": [
        "k-junta creation RNG seed  : 1377510917\n",
        "Learning algorithm RNG seed: 1377846805\n",
        "n = 1000\n",
        "k = 8\n",
        "Hidden boolean function = 00001011101010101011001110110001111000111001000001011000111011001000001010010001110110011101001111100000101101010010001011101010...followed by 128 bits\n",
        "True junta indices =   [  2  86 272 410 495 646 836 894]\n",
        "Checking for constancy...\n",
        "Function is NOT constant. Learning its juntas...\n",
        "======== Round 1 ========\n",
        "Elapsed wall-clock time = 21.933 seconds"
       ]
      },
      {
       "output_type": "stream",
       "stream": "stdout",
       "text": [
        "\n",
        "Hypothesized indices = [  2 495 646 836 894]\n",
        "#queries = 300000\n",
        "========================\n",
        "LEARNED juntas = [  2 495 646 836 894]\n",
        "Checking for constancy under the following restriction \n",
        "[(2, 0), (495, 0), (646, 0), (836, 0), (894, 0)]\n",
        "Function is NOT constant. Learning its juntas under the restriction...\n",
        "\t======== Round 1 ========\n",
        "\tElapsed wall-clock time = 22.062 seconds"
       ]
      },
      {
       "output_type": "stream",
       "stream": "stdout",
       "text": [
        "\n",
        "\tHypothesized indices = [ 86 272 410]\n",
        "\t#queries = 300000\n",
        "\t========================\n",
        "\tLEARNED juntas = [ 86 272 410]\n",
        "\t#juntas learned >= k. Exiting...\n",
        "#juntas learned >= k. Exiting...\n",
        "_______________________________________________\n",
        "True junta indices      = [  2  86 272 410 495 646 836 894]\n",
        "Recovered junta indices = [  2  86 272 410 495 646 836 894]\n",
        "Match? : True\n",
        "\n",
        "Total number of queries = 602000\n",
        "Elapsed wall-clock time = 44.048 seconds\n"
       ]
      },
      {
       "metadata": {},
       "output_type": "pyout",
       "prompt_number": 23,
       "text": [
        "True"
       ]
      }
     ],
     "prompt_number": 23
    },
    {
     "cell_type": "markdown",
     "metadata": {
      "slideshow": {
       "slide_type": "slide"
      }
     },
     "source": [
      "If we keep increasing $n$ there comes a point where the algorithm begins to fail (noticibly frequently)"
     ]
    },
    {
     "cell_type": "code",
     "collapsed": false,
     "input": [
      "e.recoverJuntas(k=8, n=8000, hiddenFnName=\"random\", \n",
      "                juntaCreationRngSeed=1377510917)"
     ],
     "language": "python",
     "metadata": {},
     "outputs": [
      {
       "output_type": "stream",
       "stream": "stdout",
       "text": [
        "k-junta creation RNG seed  : 1377510917\n",
        "Learning algorithm RNG seed: 1377850887\n",
        "n = 8000\n",
        "k = 8\n",
        "Hidden boolean function = 00001011101010101011001110110001111000111001000001011000111011001000001010010001110110011101001111100000101101010010001011101010...followed by 128 bits\n",
        "True junta indices =   [ 376  590 2296 2849 3534 4537 7089 7545]\n",
        "Checking for constancy...\n",
        "Function is NOT constant. Learning its juntas..."
       ]
      },
      {
       "output_type": "stream",
       "stream": "stdout",
       "text": [
        "\n",
        "======== Round 1 ========\n",
        "Elapsed wall-clock time = 157.571 seconds"
       ]
      },
      {
       "output_type": "stream",
       "stream": "stdout",
       "text": [
        "\n",
        "Hypothesized indices = [ 376 2849 3534 4537 7089]\n",
        "#queries = 300000\n",
        "========================\n",
        "LEARNED juntas = [ 376 2849 3534 4537 7089]\n",
        "Checking for constancy under the following restriction \n",
        "[(376, 0), (2849, 0), (3534, 0), (4537, 0), (7089, 0)]\n",
        "Function is NOT constant. Learning its juntas under the restriction..."
       ]
      },
      {
       "output_type": "stream",
       "stream": "stdout",
       "text": [
        "\n",
        "\t======== Round 1 ========\n",
        "\tElapsed wall-clock time = 158.097 seconds"
       ]
      },
      {
       "output_type": "stream",
       "stream": "stdout",
       "text": [
        "\n",
        "\tHypothesized indices = [ 590 2296 6530]\n",
        "\t#queries = 300000\n",
        "\t========================\n",
        "\tLEARNED juntas = [ 590 2296 6530]\n",
        "\t#juntas learned >= k. Exiting...\n",
        "#juntas learned >= k. Exiting...\n",
        "_______________________________________________"
       ]
      },
      {
       "output_type": "stream",
       "stream": "stdout",
       "text": [
        "\n",
        "True junta indices      = [ 376  590 2296 2849 3534 4537 7089 7545]\n",
        "Recovered junta indices = [ 376  590 2296 2849 3534 4537 6530 7089]\n",
        "Match? : False\n",
        "\n",
        "Total number of queries = 602000\n",
        "Elapsed wall-clock time = 316.028 seconds\n"
       ]
      },
      {
       "metadata": {},
       "output_type": "pyout",
       "prompt_number": 28,
       "text": [
        "False"
       ]
      }
     ],
     "prompt_number": 28
    },
    {
     "cell_type": "markdown",
     "metadata": {
      "slideshow": {
       "slide_type": "slide"
      }
     },
     "source": [
      "When this point is reached, increasing the recursive 3-way majority voting depth by 1 (default is 0) fixes the issue for the value of $n$, and values much larger, while trebling the rounds of evolution. \n",
      "\n",
      "A run with `majorityVotingDepth=1`. \n",
      "\n",
      "Note:\n",
      "\n",
      "+ The hypothesizing of erroneous indices 12820, 14583, 14870, 5338   \n",
      "+ That 3-way majority voting eliminates these errors."
     ]
    },
    {
     "cell_type": "code",
     "collapsed": false,
     "input": [
      "e.recoverJuntas(k=8, n=20000, hiddenFnName=\"random\", \n",
      "                majorityVotingDepth=1, \n",
      "                juntaCreationRngSeed=1377510917)"
     ],
     "language": "python",
     "metadata": {},
     "outputs": [
      {
       "output_type": "stream",
       "stream": "stdout",
       "text": [
        "k-junta creation RNG seed  : 1377510917\n",
        "Learning algorithm RNG seed: 1377851206\n",
        "n = 20000\n",
        "k = 8\n",
        "Hidden boolean function = 00001011101010101011001110110001111000111001000001011000111011001000001010010001110110011101001111100000101101010010001011101010...followed by 128 bits\n",
        "True junta indices =   [ 2643  6499  7334 13683 14323 14583 14765 14902]\n",
        "Checking for constancy...\n",
        "Function is NOT constant. Learning its juntas..."
       ]
      },
      {
       "output_type": "stream",
       "stream": "stdout",
       "text": [
        "\n",
        "======== Round 1 ========\n",
        "Elapsed wall-clock time = 400.968 seconds"
       ]
      },
      {
       "output_type": "stream",
       "stream": "stdout",
       "text": [
        "\n",
        "Hypothesized indices = [ 2643 14323 14583 14765 14902]\n",
        "#queries = 300000\n",
        "======== Round 2 ========\n",
        "Elapsed wall-clock time = 411.907 seconds"
       ]
      },
      {
       "output_type": "stream",
       "stream": "stdout",
       "text": [
        "\n",
        "Hypothesized indices = [ 2643 14323 14583 14765 14902]\n",
        "#queries = 300000\n",
        "======== Round 3 ========\n",
        "Elapsed wall-clock time = 440.649 seconds"
       ]
      },
      {
       "output_type": "stream",
       "stream": "stdout",
       "text": [
        "\n",
        "Hypothesized indices = [ 2643 12820 14323 14583 14765 14870 14902]\n",
        "#queries = 300000\n",
        "========================\n",
        "LEARNED juntas = [ 2643 14323 14583 14765 14902]\n",
        "Checking for constancy under the following restriction \n",
        "[(2643, 0), (14323, 0), (14583, 0), (14765, 0), (14902, 0)]\n",
        "Function is NOT constant. Learning its juntas under the restriction..."
       ]
      },
      {
       "output_type": "stream",
       "stream": "stdout",
       "text": [
        "\n",
        "\t======== Round 1 ========\n",
        "\tElapsed wall-clock time = 408.465 seconds"
       ]
      },
      {
       "output_type": "stream",
       "stream": "stdout",
       "text": [
        "\n",
        "\tHypothesized indices = [ 6499  7334 13683]\n",
        "\t#queries = 300000\n",
        "\t======== Round 2 ========\n",
        "\tElapsed wall-clock time = 400.461 seconds"
       ]
      },
      {
       "output_type": "stream",
       "stream": "stdout",
       "text": [
        "\n",
        "\tHypothesized indices = [ 5338  6499  7334 13683]\n",
        "\t#queries = 300000\n",
        "\t======== Round 3 ========\n",
        "\tElapsed wall-clock time = 399.263 seconds"
       ]
      },
      {
       "output_type": "stream",
       "stream": "stdout",
       "text": [
        "\n",
        "\tHypothesized indices = [ 6499  7334 13683]\n",
        "\t#queries = 300000\n",
        "\t========================\n",
        "\tLEARNED juntas = [ 6499  7334 13683]\n",
        "\t#juntas learned >= k. Exiting...\n",
        "#juntas learned >= k. Exiting..."
       ]
      },
      {
       "output_type": "stream",
       "stream": "stdout",
       "text": [
        "\n",
        "_______________________________________________"
       ]
      },
      {
       "output_type": "stream",
       "stream": "stdout",
       "text": [
        "\n",
        "True junta indices      = [ 2643  6499  7334 13683 14323 14583 14765 14902]\n",
        "Recovered junta indices = [ 2643  6499  7334 13683 14323 14583 14765 14902]\n",
        "Match? : True\n",
        "\n",
        "Total number of queries = 1802000\n",
        "Elapsed wall-clock time = 2462.760 seconds\n"
       ]
      },
      {
       "metadata": {},
       "output_type": "pyout",
       "prompt_number": 29,
       "text": [
        "True"
       ]
      }
     ],
     "prompt_number": 29
    },
    {
     "cell_type": "markdown",
     "metadata": {
      "slideshow": {
       "slide_type": "slide"
      }
     },
     "source": [
      "For any hidden function $h$, any $\\epsilon>0$, and any $k$, if the algorithm with `majorityVotingDepth=0` recovers, with probability of error < $\\epsilon$, the relevant variables of a $k$-junta over $k+1$ variables with hidden function $h$, then for any value of $n$, there is a value of `majorityVotingDepth` for which the algorithm will recover, with probability of error < $\\epsilon$, the relevant variables of the $k$-junta over $n$ variables with hidden function $h$. \n",
      "\n",
      "So, for any given error tolerance, if a $k$-junta with some hidden function $h$ can be solved for some small value of $n$, then any $k$ junta with hidden function $h$ can be solved efficiently: in $O(n \\textrm{ polylog}(n))$ time and $O(\\textrm{polylog}(n))$ queries to be precise."
     ]
    },
    {
     "cell_type": "markdown",
     "metadata": {
      "slideshow": {
       "slide_type": "slide"
      }
     },
     "source": [
      "Implicit concurrency theory suggests that for any value of $k$, learning $k$-parities is the \"hardest\" $k$-junta for this algorithm. \n",
      "\n",
      "For $k$ > 12, the algorithm typically fails to learn parities, regardless of the value of $n$. Raising the majority voting depth will not help in this case. "
     ]
    },
    {
     "cell_type": "code",
     "collapsed": false,
     "input": [
      "e.recoverJuntas(k=13, n=14, hiddenFnName=\"parity\", juntaIndices=range(13),  \n",
      "                juntaCreationRngSeed=1377510917)"
     ],
     "language": "python",
     "metadata": {},
     "outputs": [
      {
       "output_type": "stream",
       "stream": "stdout",
       "text": [
        "k-junta creation RNG seed  : 1377510917\n",
        "Learning algorithm RNG seed: 1377854384\n",
        "n = 14\n",
        "k = 13\n",
        "Hidden boolean function = 01101001100101101001011001101001100101100110100101101001100101101001011001101001011010011001011001101001100101101001011001101001...followed by 8064 bits\n",
        "True junta indices =   [ 0  1  2  3  4  5  6  7  8  9 10 11 12]\n",
        "Checking for constancy...\n",
        "Function is NOT constant. Learning its juntas...\n",
        "======== Round 1 ========\n",
        "Elapsed wall-clock time = 2.420 seconds"
       ]
      },
      {
       "output_type": "stream",
       "stream": "stdout",
       "text": [
        "\n",
        "Hypothesized indices = []\n",
        "#queries = 300000\n",
        "========================\n",
        "LEARNED juntas = []\n",
        "The function is not constant under the restriction [], but no junta could be learned.\n",
        "In other words, the algorithm has failed. \n",
        "_______________________________________________\n",
        "True junta indices      = [ 0  1  2  3  4  5  6  7  8  9 10 11 12]\n",
        "Recovered junta indices = []\n",
        "Match? : False\n",
        "\n",
        "Total number of queries = 301000\n",
        "Elapsed wall-clock time = 2.422 seconds\n"
       ]
      },
      {
       "metadata": {},
       "output_type": "pyout",
       "prompt_number": 32,
       "text": [
        "False"
       ]
      }
     ],
     "prompt_number": 32
    },
    {
     "cell_type": "markdown",
     "metadata": {
      "slideshow": {
       "slide_type": "slide"
      }
     },
     "source": [
      "The algorithm will typically learn _random_ k-junta for values of $k$ beyond 12. But even this ability peters out as $k$ continues to increase. When this happens, increasing `majorityVotingDepth` will not help.  "
     ]
    },
    {
     "cell_type": "code",
     "collapsed": false,
     "input": [
      "e.recoverJuntas(k=18, n=100, hiddenFnName=\"random\")"
     ],
     "language": "python",
     "metadata": {},
     "outputs": [
      {
       "output_type": "stream",
       "stream": "stdout",
       "text": [
        "k-junta creation RNG seed  : 1377854403\n",
        "Learning algorithm RNG seed: 1377854403\n",
        "n = 100\n",
        "k = 18\n",
        "Hidden boolean function = 11111001100010101000101101111000110100010011111011111111010010001111001110011100001000110000100001101111110001100100111111001001...followed by 262016 bits\n",
        "True junta indices =   [ 9 17 19 30 38 45 47 48 56 64 71 77 79 80 83 89 90 94]\n",
        "Checking for constancy...\n",
        "Function is NOT constant. Learning its juntas...\n",
        "======== Round 1 ========\n",
        "Elapsed wall-clock time = 4.199 seconds"
       ]
      },
      {
       "output_type": "stream",
       "stream": "stdout",
       "text": [
        "\n",
        "Hypothesized indices = [ 9 17 19 30 38 45 47 48 56 64 71 77 79 80 83 89 90 94]\n",
        "#queries = 300000\n",
        "========================\n",
        "LEARNED juntas = [ 9 17 19 30 38 45 47 48 56 64 71 77 79 80 83 89 90 94]\n",
        "#juntas learned >= k. Exiting...\n",
        "_______________________________________________\n",
        "True junta indices      = [ 9 17 19 30 38 45 47 48 56 64 71 77 79 80 83 89 90 94]\n",
        "Recovered junta indices = [ 9 17 19 30 38 45 47 48 56 64 71 77 79 80 83 89 90 94]\n",
        "Match? : True\n",
        "\n",
        "Total number of queries = 301000\n",
        "Elapsed wall-clock time = 4.222 seconds\n"
       ]
      },
      {
       "metadata": {},
       "output_type": "pyout",
       "prompt_number": 33,
       "text": [
        "True"
       ]
      }
     ],
     "prompt_number": 33
    },
    {
     "cell_type": "markdown",
     "metadata": {
      "slideshow": {
       "slide_type": "slide"
      }
     },
     "source": [
      "Questions / Comments / Results of your own? \n",
      "\n",
      "Drop the [Implicit Concurrency](https://plus.google.com/u/0/communities/112197200398230640220) Google+ community a line! Let's get a discussion going.\n",
      "\n",
      "### Resources\n",
      "\n",
      "[Evolving Juntas blog post](http://blog.hackingevolution.net/2013/08/29/evolving-juntas-with-implicit-concurrency/)\n",
      "\n",
      "[Evolve Juntas github repository](http://github.com/burjorjee/evolve-juntas)\n"
     ]
    }
   ],
   "metadata": {}
  }
 ]
}
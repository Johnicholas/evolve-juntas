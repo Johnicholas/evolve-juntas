{
 "metadata": {
  "name": "using_evolvejuntas"
 },
 "nbformat": 3,
 "nbformat_minor": 0,
 "worksheets": [
  {
   "cells": [
    {
     "cell_type": "heading",
     "level": 2,
     "metadata": {},
     "source": [
      "Evolving Juntas"
     ]
    },
    {
     "cell_type": "code",
     "collapsed": false,
     "input": [
      "import evolvejuntas as e; reload(e)"
     ],
     "language": "python",
     "metadata": {},
     "outputs": [
      {
       "output_type": "pyout",
       "prompt_number": 37,
       "text": [
        "<module 'evolvejuntas' from 'evolvejuntas.pyc'>"
       ]
      }
     ],
     "prompt_number": 37
    },
    {
     "cell_type": "code",
     "collapsed": false,
     "input": [
      "e.recoverJuntas(k=6, n=100, hiddenFnName=\"and\")"
     ],
     "language": "python",
     "metadata": {},
     "outputs": [
      {
       "output_type": "stream",
       "stream": "stdout",
       "text": [
        "k-junta creation RNG seed  : 1377510429\n",
        "Learning algorithm RNG seed: 1377510429\n",
        "n = 100\n",
        "k = 6\n",
        "Hidden boolean function = 0000000000000000000000000000000000000000000000000000000000000001\n",
        "True junta indices =   [17 19 43 55 57 81]\n",
        "Checking for constancy...\n",
        "Function is NOT constant. Learning its juntas...\n",
        "======== run 1 ========\n",
        "Elapsed wall-clock time = 4.143 seconds"
       ]
      },
      {
       "output_type": "stream",
       "stream": "stdout",
       "text": [
        "\n",
        "Hypothesized indices = [17 19 43 55 57 81]\n",
        "#queries = 300000\n",
        "======== run 2 ========\n",
        "Elapsed wall-clock time = 4.100 seconds"
       ]
      },
      {
       "output_type": "stream",
       "stream": "stdout",
       "text": [
        "\n",
        "Hypothesized indices = [17 19 43 55 57 81]\n",
        "#queries = 300000\n",
        "======== run 3 ========\n",
        "Elapsed wall-clock time = 4.180 seconds"
       ]
      },
      {
       "output_type": "stream",
       "stream": "stdout",
       "text": [
        "\n",
        "Hypothesized indices = [17 19 43 55 57 81]\n",
        "#queries = 300000\n",
        "========================\n",
        "LEARNED juntas = [17 19 43 55 57 81]\n",
        "#juntas learned >= k. Exiting...\n",
        "_______________________________________________\n",
        "True junta indices      = [17 19 43 55 57 81]\n",
        "Recovered junta indices = [17 19 43 55 57 81]\n",
        "Match? : True\n",
        "\n",
        "Total number of queries = 900128\n",
        "\n"
       ]
      }
     ],
     "prompt_number": 38
    },
    {
     "cell_type": "code",
     "collapsed": false,
     "input": [
      "e.recoverJuntas(k=6, n=100, hiddenFnName=\"or\")"
     ],
     "language": "python",
     "metadata": {},
     "outputs": [
      {
       "output_type": "stream",
       "stream": "stdout",
       "text": [
        "k-junta creation RNG seed  : 1377498738\n",
        "Learning algorithm RNG seed: 1377498738\n",
        "n = 100\n",
        "k = 6\n",
        "Hidden boolean function = 0111111111111111111111111111111111111111111111111111111111111111\n",
        "True junta indices =   [13 24 28 60 68 97]\n",
        "Checking for constancy...\n",
        "Function is NOT constant. Learning its juntas...\n",
        "======== run 1 ========\n",
        "Elapsed wall-clock time = 4.113 seconds"
       ]
      },
      {
       "output_type": "stream",
       "stream": "stdout",
       "text": [
        "\n",
        "Hypothesized indices = [13 24 28 60 68 97]\n",
        "#queries = 300000\n",
        "======== run 2 ========\n",
        "Elapsed wall-clock time = 4.092 seconds"
       ]
      },
      {
       "output_type": "stream",
       "stream": "stdout",
       "text": [
        "\n",
        "Hypothesized indices = [13 24 28 60 68 97]\n",
        "#queries = 300000\n",
        "======== run 3 ========\n",
        "Elapsed wall-clock time = 4.119 seconds"
       ]
      },
      {
       "output_type": "stream",
       "stream": "stdout",
       "text": [
        "\n",
        "Hypothesized indices = [13 24 28 60 68 97]\n",
        "#queries = 300000\n",
        "========================\n",
        "LEARNED juntas = [13 24 28 60 68 97]\n",
        "#juntas learned >= k. Exiting...\n",
        "_______________________________________________\n",
        "True junta indices      = [13 24 28 60 68 97]\n",
        "Recovered junta indices = [13 24 28 60 68 97]\n",
        "Match? : True\n",
        "\n",
        "Total number of queries = 900128\n",
        "\n"
       ]
      }
     ],
     "prompt_number": 4
    },
    {
     "cell_type": "code",
     "collapsed": false,
     "input": [
      "e.recoverJuntas(k=6, n=100, hiddenFnName=\"parity\")"
     ],
     "language": "python",
     "metadata": {},
     "outputs": [
      {
       "output_type": "stream",
       "stream": "stdout",
       "text": [
        "k-junta creation RNG seed  : 1377498799\n",
        "Learning algorithm RNG seed: 1377498799\n",
        "n = 100\n",
        "k = 6\n",
        "Hidden boolean function = 0110100110010110100101100110100110010110011010010110100110010110\n",
        "True junta indices =   [ 0  2  4 67 70 94]\n",
        "Checking for constancy...\n",
        "Function is NOT constant. Learning its juntas...\n",
        "======== run 1 ========\n",
        "Elapsed wall-clock time = 4.130 seconds"
       ]
      },
      {
       "output_type": "stream",
       "stream": "stdout",
       "text": [
        "\n",
        "Hypothesized indices = [ 0  2  4 67 70 94]\n",
        "#queries = 300000\n",
        "======== run 2 ========\n",
        "Elapsed wall-clock time = 4.092 seconds"
       ]
      },
      {
       "output_type": "stream",
       "stream": "stdout",
       "text": [
        "\n",
        "Hypothesized indices = [ 0  2  4 67 70 94]\n",
        "#queries = 300000\n",
        "======== run 3 ========\n",
        "Elapsed wall-clock time = 4.097 seconds"
       ]
      },
      {
       "output_type": "stream",
       "stream": "stdout",
       "text": [
        "\n",
        "Hypothesized indices = [ 0  2  4 67 70 94]\n",
        "#queries = 300000\n",
        "========================\n",
        "LEARNED juntas = [ 0  2  4 67 70 94]\n",
        "#juntas learned >= k. Exiting...\n",
        "_______________________________________________\n",
        "True junta indices      = [ 0  2  4 67 70 94]\n",
        "Recovered junta indices = [ 0  2  4 67 70 94]\n",
        "Match? : True\n",
        "\n",
        "Total number of queries = 900128\n",
        "\n"
       ]
      }
     ],
     "prompt_number": 5
    },
    {
     "cell_type": "code",
     "collapsed": false,
     "input": [
      "e.recoverJuntas(k=6, n=100, hiddenFnName=\"random\")"
     ],
     "language": "python",
     "metadata": {},
     "outputs": [
      {
       "output_type": "stream",
       "stream": "stdout",
       "text": [
        "k-junta creation RNG seed  : 1377510475\n",
        "Learning algorithm RNG seed: 1377510475\n",
        "n = 100\n",
        "k = 6\n",
        "Hidden boolean function = 1001100010101010001010100100101100010100101011001000010100011001\n",
        "True junta indices =   [16 29 52 75 80 90]\n",
        "Checking for constancy...\n",
        "Function is NOT constant. Learning its juntas...\n",
        "======== run 1 ========\n",
        "Elapsed wall-clock time = 4.156 seconds"
       ]
      },
      {
       "output_type": "stream",
       "stream": "stdout",
       "text": [
        "\n",
        "Hypothesized indices = [16 29 52 75 90]\n",
        "#queries = 300000\n",
        "======== run 2 ========\n",
        "Elapsed wall-clock time = 4.095 seconds"
       ]
      },
      {
       "output_type": "stream",
       "stream": "stdout",
       "text": [
        "\n",
        "Hypothesized indices = [29 52 75 80 90]\n",
        "#queries = 300000\n",
        "======== run 3 ========\n",
        "Elapsed wall-clock time = 4.126 seconds"
       ]
      },
      {
       "output_type": "stream",
       "stream": "stdout",
       "text": [
        "\n",
        "Hypothesized indices = [29 52 75 80 90]\n",
        "#queries = 300000\n",
        "========================\n",
        "LEARNED juntas = [29 52 75 80 90]\n",
        "Checking for constancy under the  assignment [(29, 0), (52, 0), (75, 0), (80, 0), (90, 0)]\n",
        "Function is NOT constant under the assignment. Learning its juntas under the assignment...\n",
        "\t======== run 1 ========\n",
        "\tElapsed wall-clock time = 4.087 seconds"
       ]
      },
      {
       "output_type": "stream",
       "stream": "stdout",
       "text": [
        "\n",
        "\tHypothesized indices = [16]\n",
        "\t#queries = 300000\n",
        "\t======== run 2 ========\n",
        "\tElapsed wall-clock time = 4.088 seconds"
       ]
      },
      {
       "output_type": "stream",
       "stream": "stdout",
       "text": [
        "\n",
        "\tHypothesized indices = [16]\n",
        "\t#queries = 300000\n",
        "\t======== run 3 ========\n",
        "\tElapsed wall-clock time = 4.101 seconds"
       ]
      },
      {
       "output_type": "stream",
       "stream": "stdout",
       "text": [
        "\n",
        "\tHypothesized indices = [16]\n",
        "\t#queries = 300000\n",
        "\t========================\n",
        "\tLEARNED juntas = [16]\n",
        "\t#juntas learned >= k. Exiting...\n",
        "#juntas learned >= k. Exiting...\n",
        "_______________________________________________\n",
        "True junta indices      = [16 29 52 75 80 90]\n",
        "Recovered junta indices = [16 29 52 75 80 90]\n",
        "Match? : True\n",
        "\n",
        "Total number of queries = 1800132\n",
        "\n"
       ]
      }
     ],
     "prompt_number": 39
    },
    {
     "cell_type": "code",
     "collapsed": false,
     "input": [
      "e.recoverJuntas(k=6, n=20, hiddenFnName=\"random\", juntaCreationRngSeed=1377510475)"
     ],
     "language": "python",
     "metadata": {},
     "outputs": [
      {
       "output_type": "stream",
       "stream": "stdout",
       "text": [
        "k-junta creation RNG seed  : 1377510475\n",
        "Learning algorithm RNG seed: 1377510565\n",
        "n = 20\n",
        "k = 6\n",
        "Hidden boolean function = 1001100010101010001010100100101100010100101011001000010100011001\n",
        "True junta indices =   [ 3  5  8 10 11 12]\n",
        "Checking for constancy...\n",
        "Function is NOT constant. Learning its juntas...\n",
        "======== run 1 ========\n",
        "Elapsed wall-clock time = 2.453 seconds"
       ]
      },
      {
       "output_type": "stream",
       "stream": "stdout",
       "text": [
        "\n",
        "Hypothesized indices = [ 8 10 11 12]\n",
        "#queries = 300000\n",
        "======== run 2 ========\n",
        "Elapsed wall-clock time = 2.466 seconds"
       ]
      },
      {
       "output_type": "stream",
       "stream": "stdout",
       "text": [
        "\n",
        "Hypothesized indices = [ 5  8 10 11 12]\n",
        "#queries = 300000\n",
        "======== run 3 ========\n",
        "Elapsed wall-clock time = 2.480 seconds"
       ]
      },
      {
       "output_type": "stream",
       "stream": "stdout",
       "text": [
        "\n",
        "Hypothesized indices = [ 3  8 11 12]\n",
        "#queries = 300000\n",
        "========================\n",
        "LEARNED juntas = [ 8 10 11 12]\n",
        "Checking for constancy under the  assignment [(8, 0), (10, 0), (11, 0), (12, 0)]\n",
        "Function is NOT constant under the assignment. Learning its juntas under the assignment...\n",
        "\t======== run 1 ========\n",
        "\tElapsed wall-clock time = 2.489 seconds"
       ]
      },
      {
       "output_type": "stream",
       "stream": "stdout",
       "text": [
        "\n",
        "\tHypothesized indices = [3 5]\n",
        "\t#queries = 300000\n",
        "\t======== run 2 ========\n",
        "\tElapsed wall-clock time = 2.511 seconds"
       ]
      },
      {
       "output_type": "stream",
       "stream": "stdout",
       "text": [
        "\n",
        "\tHypothesized indices = [3 5]\n",
        "\t#queries = 300000\n",
        "\t======== run 3 ========\n",
        "\tElapsed wall-clock time = 2.461 seconds"
       ]
      },
      {
       "output_type": "stream",
       "stream": "stdout",
       "text": [
        "\n",
        "\tHypothesized indices = [3 5]\n",
        "\t#queries = 300000\n",
        "\t========================\n",
        "\tLEARNED juntas = [3 5]\n",
        "\t#juntas learned >= k. Exiting...\n",
        "#juntas learned >= k. Exiting...\n",
        "_______________________________________________\n",
        "True junta indices      = [ 3  5  8 10 11 12]\n",
        "Recovered junta indices = [ 3  5  8 10 11 12]\n",
        "Match? : True\n",
        "\n",
        "Total number of queries = 1800136\n",
        "\n"
       ]
      }
     ],
     "prompt_number": 41
    },
    {
     "cell_type": "code",
     "collapsed": false,
     "input": [
      "e.recoverJuntas(k=6, n=33, hiddenFnName=\"random\", juntaCreationRngSeed=1377510322)"
     ],
     "language": "python",
     "metadata": {},
     "outputs": [
      {
       "output_type": "stream",
       "stream": "stdout",
       "text": [
        "k-junta creation RNG seed  : 1377510322\n",
        "Learning algorithm RNG seed: 1377510786\n",
        "n = 33\n",
        "k = 6\n",
        "Hidden boolean function = 1101010010011110100101011011111001110111011101001100101011110110\n",
        "True junta indices =   [ 1 12 14 20 24 30]\n",
        "Checking for constancy...\n",
        "Function is NOT constant. Learning its juntas...\n",
        "======== run 1 ========\n",
        "Elapsed wall-clock time = 2.721 seconds"
       ]
      },
      {
       "output_type": "stream",
       "stream": "stdout",
       "text": [
        "\n",
        "Hypothesized indices = [ 1 14 20 30]\n",
        "#queries = 300000\n",
        "======== run 2 ========\n",
        "Elapsed wall-clock time = 2.730 seconds"
       ]
      },
      {
       "output_type": "stream",
       "stream": "stdout",
       "text": [
        "\n",
        "Hypothesized indices = [ 1 14 20 30]\n",
        "#queries = 300000\n",
        "======== run 3 ========\n",
        "Elapsed wall-clock time = 2.786 seconds"
       ]
      },
      {
       "output_type": "stream",
       "stream": "stdout",
       "text": [
        "\n",
        "Hypothesized indices = [ 1 12 14 20 24 30]\n",
        "#queries = 300000\n",
        "========================\n",
        "LEARNED juntas = [ 1 14 20 30]\n",
        "Checking for constancy under the  assignment [(1, 0), (14, 0), (20, 0), (30, 0)]\n",
        "Function is NOT constant under the assignment. Learning its juntas under the assignment...\n",
        "\t======== run 1 ========\n",
        "\tElapsed wall-clock time = 2.774 seconds"
       ]
      },
      {
       "output_type": "stream",
       "stream": "stdout",
       "text": [
        "\n",
        "\tHypothesized indices = [24]\n",
        "\t#queries = 300000\n",
        "\t======== run 2 ========\n",
        "\tElapsed wall-clock time = 2.788 seconds"
       ]
      },
      {
       "output_type": "stream",
       "stream": "stdout",
       "text": [
        "\n",
        "\tHypothesized indices = [24]\n",
        "\t#queries = 300000\n",
        "\t======== run 3 ========\n",
        "\tElapsed wall-clock time = 2.729 seconds"
       ]
      },
      {
       "output_type": "stream",
       "stream": "stdout",
       "text": [
        "\n",
        "\tHypothesized indices = [24]\n",
        "\t#queries = 300000\n",
        "\t========================\n",
        "\tLEARNED juntas = [24]\n",
        "\tChecking for constancy under the  assignment [(1, 0), (14, 0), (20, 0), (30, 0), (24, 0)]\n",
        "\tFunction seems constant under the assignment. Nothing to learn here; moving on...\n",
        "\tChecking for constancy under the  assignment [(1, 0), (14, 0), (20, 0), (30, 0), (24, 1)]\n",
        "\tFunction seems constant under the assignment. Nothing to learn here; moving on...\n",
        "Checking for constancy under the  assignment [(1, 0), (14, 0), (20, 0), (30, 1), (24, 0)]\n",
        "Function is NOT constant under the assignment. Learning its juntas under the assignment...\n",
        "\t======== run 1 ========\n",
        "\tElapsed wall-clock time = 2.724 seconds"
       ]
      },
      {
       "output_type": "stream",
       "stream": "stdout",
       "text": [
        "\n",
        "\tHypothesized indices = [12]\n",
        "\t#queries = 300000\n",
        "\t======== run 2 ========\n",
        "\tElapsed wall-clock time = 2.802 seconds"
       ]
      },
      {
       "output_type": "stream",
       "stream": "stdout",
       "text": [
        "\n",
        "\tHypothesized indices = [12]\n",
        "\t#queries = 300000\n",
        "\t======== run 3 ========\n",
        "\tElapsed wall-clock time = 2.780 seconds"
       ]
      },
      {
       "output_type": "stream",
       "stream": "stdout",
       "text": [
        "\n",
        "\tHypothesized indices = [12]\n",
        "\t#queries = 300000\n",
        "\t========================\n",
        "\tLEARNED juntas = [12]\n",
        "\t#juntas learned >= k. Exiting...\n",
        "#juntas learned >= k. Exiting...\n",
        "_______________________________________________\n",
        "True junta indices      = [ 1 12 14 20 24 30]\n",
        "Recovered junta indices = [ 1 12 14 20 24 30]\n",
        "Match? : True\n",
        "\n",
        "Total number of queries = 2700148\n",
        "\n"
       ]
      }
     ],
     "prompt_number": 44
    },
    {
     "cell_type": "code",
     "collapsed": false,
     "input": [
      "e.recoverJuntas(k=8, n=100, hiddenFnName=\"random\")"
     ],
     "language": "python",
     "metadata": {},
     "outputs": [
      {
       "output_type": "stream",
       "stream": "stdout",
       "text": [
        "k-junta creation RNG seed  : 1377510917\n",
        "Learning algorithm RNG seed: 1377510917\n",
        "n = 100\n",
        "k = 8\n",
        "Hidden boolean function = 00001011101010101011001110110001111000111001000001011000111011001000001010010001110110011101001111100000101101010010001011101010...followed by 128 bits\n",
        "True junta indices =   [ 0  3  6 19 32 35 78 95]\n",
        "Checking for constancy...\n",
        "Function is NOT constant. Learning its juntas...\n",
        "======== run 1 ========\n",
        "Elapsed wall-clock time = 4.095 seconds"
       ]
      },
      {
       "output_type": "stream",
       "stream": "stdout",
       "text": [
        "\n",
        "Hypothesized indices = [ 0 19 32 35 78]\n",
        "#queries = 300000\n",
        "======== run 2 ========\n",
        "Elapsed wall-clock time = 4.101 seconds"
       ]
      },
      {
       "output_type": "stream",
       "stream": "stdout",
       "text": [
        "\n",
        "Hypothesized indices = [ 0  3  6 19 32 35 78 95]\n",
        "#queries = 300000\n",
        "======== run 3 ========\n",
        "Elapsed wall-clock time = 4.074 seconds"
       ]
      },
      {
       "output_type": "stream",
       "stream": "stdout",
       "text": [
        "\n",
        "Hypothesized indices = [ 0  3  6 19 32 35]\n",
        "#queries = 300000\n",
        "========================\n",
        "LEARNED juntas = [ 0  3  6 19 32 35 78]\n",
        "Checking for constancy under the  assignment [(0, 0), (3, 0), (6, 0), (19, 0), (32, 0), (35, 0), (78, 0)]\n",
        "Function seems constant under the assignment. Nothing to learn here; moving on...\n",
        "Checking for constancy under the  assignment [(0, 0), (3, 0), (6, 0), (19, 0), (32, 0), (35, 0), (78, 1)]\n",
        "Function seems constant under the assignment. Nothing to learn here; moving on...\n",
        "Checking for constancy under the  assignment [(0, 0), (3, 0), (6, 0), (19, 0), (32, 0), (35, 1), (78, 0)]\n",
        "Function is NOT constant under the assignment. Learning its juntas under the assignment...\n",
        "\t======== run 1 ========\n",
        "\tElapsed wall-clock time = 4.152 seconds"
       ]
      },
      {
       "output_type": "stream",
       "stream": "stdout",
       "text": [
        "\n",
        "\tHypothesized indices = [95]\n",
        "\t#queries = 300000\n",
        "\t======== run 2 ========\n",
        "\tElapsed wall-clock time = 4.205 seconds"
       ]
      },
      {
       "output_type": "stream",
       "stream": "stdout",
       "text": [
        "\n",
        "\tHypothesized indices = [95]\n",
        "\t#queries = 300000\n",
        "\t======== run 3 ========\n",
        "\tElapsed wall-clock time = 4.101 seconds"
       ]
      },
      {
       "output_type": "stream",
       "stream": "stdout",
       "text": [
        "\n",
        "\tHypothesized indices = [95]\n",
        "\t#queries = 300000\n",
        "\t========================\n",
        "\tLEARNED juntas = [95]\n",
        "\t#juntas learned >= k. Exiting...\n",
        "#juntas learned >= k. Exiting...\n",
        "_______________________________________________\n",
        "True junta indices      = [ 0  3  6 19 32 35 78 95]\n",
        "Recovered junta indices = [ 0  3  6 19 32 35 78 95]\n",
        "Match? : True\n",
        "\n",
        "Total number of queries = 1800524\n",
        "\n"
       ]
      }
     ],
     "prompt_number": 47
    },
    {
     "cell_type": "code",
     "collapsed": false,
     "input": [
      "e.recoverJuntas(k=8, n=5000, hiddenFnName=\"random\", juntaCreationRngSeed=1377510917)"
     ],
     "language": "python",
     "metadata": {},
     "outputs": [
      {
       "output_type": "stream",
       "stream": "stdout",
       "text": [
        "k-junta creation RNG seed  : 1377510917\n",
        "Learning algorithm RNG seed: 1377511237\n",
        "n = 5000\n",
        "k = 8\n",
        "Hidden boolean function = 00001011101010101011001110110001111000111001000001011000111011001000001010010001110110011101001111100000101101010010001011101010...followed by 128 bits\n",
        "True junta indices =   [ 261  301  607 1100 1648 1734 2290 3631]\n",
        "Checking for constancy...\n",
        "Function is NOT constant. Learning its juntas...\n",
        "======== run 1 ========\n",
        "Elapsed wall-clock time = 104.030 seconds"
       ]
      },
      {
       "output_type": "stream",
       "stream": "stdout",
       "text": [
        "\n",
        "Hypothesized indices = [ 261 1648 1734 2290 3631]\n",
        "#queries = 300000\n",
        "======== run 2 ========\n",
        "Elapsed wall-clock time = 104.170 seconds"
       ]
      },
      {
       "output_type": "stream",
       "stream": "stdout",
       "text": [
        "\n",
        "Hypothesized indices = [ 261  301 1648 1734 2290 3631]\n",
        "#queries = 300000\n",
        "======== run 3 ========\n",
        "Elapsed wall-clock time = 101.726 seconds"
       ]
      },
      {
       "output_type": "stream",
       "stream": "stdout",
       "text": [
        "\n",
        "Hypothesized indices = [ 261 1648 1734 2290 3631]\n",
        "#queries = 300000\n",
        "========================\n",
        "LEARNED juntas = [ 261 1648 1734 2290 3631]\n",
        "Checking for constancy under the  assignment [(261, 0), (1648, 0), (1734, 0), (2290, 0), (3631, 0)]\n",
        "Function is NOT constant under the assignment. Learning its juntas under the assignment...\n",
        "\t======== run 1 ========\n",
        "\tElapsed wall-clock time = 98.986 seconds"
       ]
      },
      {
       "output_type": "stream",
       "stream": "stdout",
       "text": [
        "\n",
        "\tHypothesized indices = [ 301  607 1100]\n",
        "\t#queries = 300000\n",
        "\t======== run 2 ========\n",
        "\tElapsed wall-clock time = 99.966 seconds"
       ]
      },
      {
       "output_type": "stream",
       "stream": "stdout",
       "text": [
        "\n",
        "\tHypothesized indices = [ 301  607 1100 4542]\n",
        "\t#queries = 300000\n",
        "\t======== run 3 ========\n",
        "\tElapsed wall-clock time = 99.417 seconds"
       ]
      },
      {
       "output_type": "stream",
       "stream": "stdout",
       "text": [
        "\n",
        "\tHypothesized indices = [ 301  607 1100]\n",
        "\t#queries = 300000\n",
        "\t========================\n",
        "\tLEARNED juntas = [ 301  607 1100]\n",
        "\t#juntas learned >= k. Exiting...\n",
        "#juntas learned >= k. Exiting...\n",
        "_______________________________________________\n",
        "True junta indices      = [ 261  301  607 1100 1648 1734 2290 3631]\n",
        "Recovered junta indices = [ 261  301  607 1100 1648 1734 2290 3631]\n",
        "Match? : True\n",
        "\n",
        "Total number of queries = 1800528\n",
        "\n"
       ]
      }
     ],
     "prompt_number": 50
    },
    {
     "cell_type": "code",
     "collapsed": false,
     "input": [
      "e.recoverJuntas(k=8, n=50, hiddenFnName=\"random\", algoMajorityVotingDepth=2,  juntaCreationRngSeed=1377510917)"
     ],
     "language": "python",
     "metadata": {},
     "outputs": [
      {
       "output_type": "stream",
       "stream": "stdout",
       "text": [
        "k-junta creation RNG seed  : 1377510917\n",
        "Learning algorithm RNG seed: 1377511953\n",
        "n = 50\n",
        "k = 8\n",
        "Hidden boolean function = 00001011101010101011001110110001111000111001000001011000111011001000001010010001110110011101001111100000101101010010001011101010...followed by 128 bits\n",
        "True junta indices =   [ 0  1  3 19 40 41 44 47]\n",
        "Checking for constancy...\n",
        "Function is NOT constant. Learning its juntas...\n",
        "======== run 1 ========\n",
        "Elapsed wall-clock time = 3.147 seconds"
       ]
      },
      {
       "output_type": "stream",
       "stream": "stdout",
       "text": [
        "\n",
        "Hypothesized indices = [ 0  1 19 40 41 44 47]\n",
        "#queries = 300000\n",
        "======== run 2 ========\n",
        "Elapsed wall-clock time = 3.072 seconds"
       ]
      },
      {
       "output_type": "stream",
       "stream": "stdout",
       "text": [
        "\n",
        "Hypothesized indices = [ 0 19 40 41 44 47]\n",
        "#queries = 300000\n",
        "======== run 3 ========\n",
        "Elapsed wall-clock time = 3.101 seconds"
       ]
      },
      {
       "output_type": "stream",
       "stream": "stdout",
       "text": [
        "\n",
        "Hypothesized indices = [ 0  3 40 41 44 47]\n",
        "#queries = 300000\n",
        "======== run 4 ========\n",
        "Elapsed wall-clock time = 3.064 seconds"
       ]
      },
      {
       "output_type": "stream",
       "stream": "stdout",
       "text": [
        "\n",
        "Hypothesized indices = [ 0 40 41 44 47]\n",
        "#queries = 300000\n",
        "======== run 5 ========\n",
        "Elapsed wall-clock time = 3.078 seconds"
       ]
      },
      {
       "output_type": "stream",
       "stream": "stdout",
       "text": [
        "\n",
        "Hypothesized indices = [ 0  1 19 40 41 44 47]\n",
        "#queries = 300000\n",
        "======== run 6 ========\n",
        "Elapsed wall-clock time = 3.089 seconds"
       ]
      },
      {
       "output_type": "stream",
       "stream": "stdout",
       "text": [
        "\n",
        "Hypothesized indices = [ 0  3 19 40 41 44]\n",
        "#queries = 300000\n",
        "======== run 7 ========\n",
        "Elapsed wall-clock time = 3.111 seconds"
       ]
      },
      {
       "output_type": "stream",
       "stream": "stdout",
       "text": [
        "\n",
        "Hypothesized indices = [ 0 40 41 44 47]\n",
        "#queries = 300000\n",
        "======== run 8 ========\n",
        "Elapsed wall-clock time = 3.099 seconds"
       ]
      },
      {
       "output_type": "stream",
       "stream": "stdout",
       "text": [
        "\n",
        "Hypothesized indices = [ 0  1  3 19 40 41 44 47]\n",
        "#queries = 300000\n",
        "======== run 9 ========\n",
        "Elapsed wall-clock time = 3.095 seconds"
       ]
      },
      {
       "output_type": "stream",
       "stream": "stdout",
       "text": [
        "\n",
        "Hypothesized indices = [ 0 40 41 44 47]\n",
        "#queries = 300000\n",
        "========================\n",
        "LEARNED juntas = [ 0 19 40 41 44 47]\n",
        "Checking for constancy under the  assignment [(0, 0), (19, 0), (40, 0), (41, 0), (44, 0), (47, 0)]\n",
        "Function is NOT constant under the assignment. Learning its juntas under the assignment...\n",
        "\t======== run 1 ========\n",
        "\tElapsed wall-clock time = 3.140 seconds"
       ]
      },
      {
       "output_type": "stream",
       "stream": "stdout",
       "text": [
        "\n",
        "\tHypothesized indices = [1 3]\n",
        "\t#queries = 300000\n",
        "\t======== run 2 ========\n",
        "\tElapsed wall-clock time = 3.104 seconds"
       ]
      },
      {
       "output_type": "stream",
       "stream": "stdout",
       "text": [
        "\n",
        "\tHypothesized indices = [1 3]\n",
        "\t#queries = 300000\n",
        "\t======== run 3 ========\n",
        "\tElapsed wall-clock time = 3.132 seconds"
       ]
      },
      {
       "output_type": "stream",
       "stream": "stdout",
       "text": [
        "\n",
        "\tHypothesized indices = [1 3]\n",
        "\t#queries = 300000\n",
        "\t======== run 4 ========\n",
        "\tElapsed wall-clock time = 3.207 seconds"
       ]
      },
      {
       "output_type": "stream",
       "stream": "stdout",
       "text": [
        "\n",
        "\tHypothesized indices = [1 3]\n",
        "\t#queries = 300000\n",
        "\t======== run 5 ========\n",
        "\tElapsed wall-clock time = 3.170 seconds"
       ]
      },
      {
       "output_type": "stream",
       "stream": "stdout",
       "text": [
        "\n",
        "\tHypothesized indices = [1 3]\n",
        "\t#queries = 300000\n",
        "\t======== run 6 ========\n",
        "\tElapsed wall-clock time = 3.156 seconds"
       ]
      },
      {
       "output_type": "stream",
       "stream": "stdout",
       "text": [
        "\n",
        "\tHypothesized indices = [1 3]\n",
        "\t#queries = 300000\n",
        "\t======== run 7 ========\n",
        "\tElapsed wall-clock time = 3.179 seconds"
       ]
      },
      {
       "output_type": "stream",
       "stream": "stdout",
       "text": [
        "\n",
        "\tHypothesized indices = [1 3]\n",
        "\t#queries = 300000\n",
        "\t======== run 8 ========\n",
        "\tElapsed wall-clock time = 3.128 seconds"
       ]
      },
      {
       "output_type": "stream",
       "stream": "stdout",
       "text": [
        "\n",
        "\tHypothesized indices = [1 3]\n",
        "\t#queries = 300000\n",
        "\t======== run 9 ========\n",
        "\tElapsed wall-clock time = 3.115 seconds"
       ]
      },
      {
       "output_type": "stream",
       "stream": "stdout",
       "text": [
        "\n",
        "\tHypothesized indices = [1 3]\n",
        "\t#queries = 300000\n",
        "\t========================\n",
        "\tLEARNED juntas = [1 3]\n",
        "\t#juntas learned >= k. Exiting...\n",
        "#juntas learned >= k. Exiting...\n",
        "_______________________________________________\n",
        "True junta indices      = [ 0  1  3 19 40 41 44 47]\n",
        "Recovered junta indices = [ 0  1  3 19 40 41 44 47]\n",
        "Match? : True\n",
        "\n",
        "Total number of queries = 5400520\n",
        "\n"
       ]
      }
     ],
     "prompt_number": 51
    },
    {
     "cell_type": "markdown",
     "metadata": {},
     "source": [
      "When $n$ is not too large you visualize the genetic algorithm runs by passing the param visualize=True"
     ]
    },
    {
     "cell_type": "code",
     "collapsed": false,
     "input": [
      "e.recoverJuntas(k=8, n=50, hiddenFnName=\"random\", juntaCreationRngSeed=1377510917, visualize=True)"
     ],
     "language": "python",
     "metadata": {},
     "outputs": []
    },
    {
     "cell_type": "markdown",
     "metadata": {},
     "source": [
      "For any $k$, I suspect that learning $k$-parities is the hardest $k$-junta for this algorithm. For k >= 11, the algorithm consistently fails. Raising the value of algoMajorityVotingDepth won't help. "
     ]
    },
    {
     "cell_type": "code",
     "collapsed": false,
     "input": [
      "e.recoverJuntas(k=11, n=50, hiddenFnName=\"parity\", algoMajorityVotingDepth=1,  juntaCreationRngSeed=1377510917)"
     ],
     "language": "python",
     "metadata": {},
     "outputs": [
      {
       "output_type": "stream",
       "stream": "stdout",
       "text": [
        "k-junta creation RNG seed  : 1377510917\n",
        "Learning algorithm RNG seed: 1377512449\n",
        "n = 50\n",
        "k = 11\n",
        "Hidden boolean function = 01101001100101101001011001101001100101100110100101101001100101101001011001101001011010011001011001101001100101101001011001101001...followed by 1920 bits\n",
        "True junta indices =   [ 5  6 13 16 21 23 24 34 42 46 47]\n",
        "Checking for constancy...\n",
        "Function is NOT constant. Learning its juntas...\n",
        "======== run 1 ========\n",
        "Elapsed wall-clock time = 3.105 seconds"
       ]
      },
      {
       "output_type": "stream",
       "stream": "stdout",
       "text": [
        "\n",
        "Hypothesized indices = [17]\n",
        "#queries = 300000\n",
        "======== run 2 ========\n",
        "Elapsed wall-clock time = 3.074 seconds"
       ]
      },
      {
       "output_type": "stream",
       "stream": "stdout",
       "text": [
        "\n",
        "Hypothesized indices = [23 32]\n",
        "#queries = 300000\n",
        "======== run 3 ========\n",
        "Elapsed wall-clock time = 3.143 seconds"
       ]
      },
      {
       "output_type": "stream",
       "stream": "stdout",
       "text": [
        "\n",
        "Hypothesized indices = [ 5  6 13 16 21 23 24 34 42 46 47]\n",
        "#queries = 300000\n",
        "========================\n",
        "LEARNED juntas = [23]\n",
        "Checking for constancy under the  assignment [(23, 0)]\n",
        "Function is NOT constant under the assignment. Learning its juntas under the assignment...\n",
        "\t======== run 1 ========\n",
        "\tElapsed wall-clock time = 3.135 seconds"
       ]
      },
      {
       "output_type": "stream",
       "stream": "stdout",
       "text": [
        "\n",
        "\tHypothesized indices = [ 5  6 13 16 21 24 34 42 46 47]\n",
        "\t#queries = 300000\n",
        "\t======== run 2 ========\n",
        "\tElapsed wall-clock time = 3.132 seconds"
       ]
      },
      {
       "output_type": "stream",
       "stream": "stdout",
       "text": [
        "\n",
        "\tHypothesized indices = [ 5  6 13 16 21 24 34 42 46 47]\n",
        "\t#queries = 300000\n",
        "\t======== run 3 ========\n",
        "\tElapsed wall-clock time = 3.107 seconds"
       ]
      },
      {
       "output_type": "stream",
       "stream": "stdout",
       "text": [
        "\n",
        "\tHypothesized indices = [ 5  6 13 16 21 24 34 42 46 47]\n",
        "\t#queries = 300000\n",
        "\t========================\n",
        "\tLEARNED juntas = [ 5  6 13 16 21 24 34 42 46 47]\n",
        "\t#juntas learned >= k. Exiting...\n",
        "#juntas learned >= k. Exiting...\n",
        "_______________________________________________\n",
        "True junta indices      = [ 5  6 13 16 21 23 24 34 42 46 47]\n",
        "Recovered junta indices = [ 5  6 13 16 21 23 24 34 42 46 47]\n",
        "Match? : True\n",
        "\n",
        "Total number of queries = 1806144\n",
        "\n"
       ]
      }
     ],
     "prompt_number": 53
    },
    {
     "cell_type": "markdown",
     "metadata": {},
     "source": [
      "When the k-junta is random, the algorithm works for larger values of k"
     ]
    },
    {
     "cell_type": "code",
     "collapsed": false,
     "input": [
      "e.recoverJuntas(k=18, n=100, hiddenFnName=\"random\")"
     ],
     "language": "python",
     "metadata": {},
     "outputs": [
      {
       "output_type": "stream",
       "stream": "stdout",
       "text": [
        "k-junta creation RNG seed  : 1377512542\n",
        "Learning algorithm RNG seed: 1377512542\n",
        "n = 100\n",
        "k = 18\n",
        "Hidden boolean function = 10010111110010011010000001001011010111010110011111101001111011001010111111111011011000101010001110100011011111000010110110010111...followed by 262016 bits\n",
        "True junta indices =   [ 1  8 18 21 24 42 47 50 65 67 68 70 73 78 79 86 88 94]\n",
        "Checking for constancy...\n",
        "Function is NOT constant. Learning its juntas..."
       ]
      },
      {
       "output_type": "stream",
       "stream": "stdout",
       "text": [
        "\n",
        "======== run 1 ========\n",
        "Elapsed wall-clock time = 4.192 seconds"
       ]
      },
      {
       "output_type": "stream",
       "stream": "stdout",
       "text": [
        "\n",
        "Hypothesized indices = [ 1  8 18 21 24 42 47 50 65 67 68 73 78 79 86 88 94]\n",
        "#queries = 300000\n",
        "======== run 2 ========\n",
        "Elapsed wall-clock time = 4.215 seconds"
       ]
      },
      {
       "output_type": "stream",
       "stream": "stdout",
       "text": [
        "\n",
        "Hypothesized indices = [ 1  8 18 21 24 42 47 50 65 67 68 70 73 78 79 86 88 94]\n",
        "#queries = 300000\n",
        "======== run 3 ========\n",
        "Elapsed wall-clock time = 4.156 seconds"
       ]
      },
      {
       "output_type": "stream",
       "stream": "stdout",
       "text": [
        "\n",
        "Hypothesized indices = [ 1  8 18 21 24 42 47 50 65 67 70 73 78 79 86 88 94]\n",
        "#queries = 300000\n",
        "========================\n",
        "LEARNED juntas = [ 1  8 18 21 24 42 47 50 65 67 68 70 73 78 79 86 88 94]\n",
        "#juntas learned >= k. Exiting...\n",
        "_______________________________________________\n",
        "True junta indices      = [ 1  8 18 21 24 42 47 50 65 67 68 70 73 78 79 86 88 94]\n",
        "Recovered junta indices = [ 1  8 18 21 24 42 47 50 65 67 68 70 73 78 79 86 88 94]\n",
        "Match? : True\n",
        "\n",
        "Total number of queries = 1424288\n",
        "\n"
       ]
      }
     ],
     "prompt_number": 54
    },
    {
     "cell_type": "code",
     "collapsed": false,
     "input": [
      "e.recoverJuntas(k=20, n=100, hiddenFnName=\"random\")"
     ],
     "language": "python",
     "metadata": {},
     "outputs": [
      {
       "output_type": "stream",
       "stream": "stdout",
       "text": [
        "k-junta creation RNG seed  : 1377512598\n",
        "Learning algorithm RNG seed: 1377512598\n",
        "n = 100\n",
        "k = 20\n",
        "Hidden boolean function = 11000111100110100111111001111110011011100110000110100100110000000101010101000111000011010111001010010011010010101000111101110001...followed by 1048448 bits\n",
        "True junta indices =   [ 1  5 12 14 24 26 51 54 55 64 66 69 71 74 79 84 85 89 90 98]\n",
        "Checking for constancy...\n",
        "Function is NOT constant. Learning its juntas..."
       ]
      },
      {
       "output_type": "stream",
       "stream": "stdout",
       "text": [
        "\n",
        "======== run 1 ========\n",
        "Elapsed wall-clock time = 4.259 seconds"
       ]
      },
      {
       "output_type": "stream",
       "stream": "stdout",
       "text": [
        "\n",
        "Hypothesized indices = [ 5 12 14 24 26 51 54 55 64 66 69 71 74 79 84 85 89 90 98]\n",
        "#queries = 300000\n",
        "======== run 2 ========\n",
        "Elapsed wall-clock time = 4.216 seconds"
       ]
      },
      {
       "output_type": "stream",
       "stream": "stdout",
       "text": [
        "\n",
        "Hypothesized indices = [ 5 12 14 24 26 51 54 55 64 66 69 71 74 79 84 85 89 90 98]\n",
        "#queries = 300000\n",
        "======== run 3 ========\n",
        "Elapsed wall-clock time = 4.171 seconds"
       ]
      },
      {
       "output_type": "stream",
       "stream": "stdout",
       "text": [
        "\n",
        "Hypothesized indices = [ 1  5 12 14 24 26 51 54 55 64 66 69 71 74 79 85 89 90 98]\n",
        "#queries = 300000\n",
        "========================\n",
        "LEARNED juntas = [ 5 12 14 24 26 51 54 55 64 66 69 71 74 79 84 85 89 90 98]\n",
        "Checking for constancy under the  assignment [(5, 0), (12, 0), (14, 0), (24, 0), (26, 0), (51, 0), (54, 0), (55, 0), (64, 0), (66, 0), (69, 0), (71, 0), (74, 0), (79, 0), (84, 0), (85, 0), (89, 0), (90, 0), (98, 0)]\n",
        "Function seems constant under the assignment. Nothing to learn here; moving on...\n",
        "Checking for constancy under the  assignment [(5, 0), (12, 0), (14, 0), (24, 0), (26, 0), (51, 0), (54, 0), (55, 0), (64, 0), (66, 0), (69, 0), (71, 0), (74, 0), (79, 0), (84, 0), (85, 0), (89, 0), (90, 0), (98, 1)]\n",
        "Function seems constant under the assignment. Nothing to learn here; moving on...\n",
        "Checking for constancy under the  assignment [(5, 0), (12, 0), (14, 0), (24, 0), (26, 0), (51, 0), (54, 0), (55, 0), (64, 0), (66, 0), (69, 0), (71, 0), (74, 0), (79, 0), (84, 0), (85, 0), (89, 0), (90, 1), (98, 0)]\n",
        "Function seems constant under the assignment. Nothing to learn here; moving on...\n",
        "Checking for constancy under the  assignment [(5, 0), (12, 0), (14, 0), (24, 0), (26, 0), (51, 0), (54, 0), (55, 0), (64, 0), (66, 0), (69, 0), (71, 0), (74, 0), (79, 0), (84, 0), (85, 0), (89, 0), (90, 1), (98, 1)]\n",
        "Function seems constant under the assignment. Nothing to learn here; moving on...\n",
        "Checking for constancy under the  assignment [(5, 0), (12, 0), (14, 0), (24, 0), (26, 0), (51, 0), (54, 0), (55, 0), (64, 0), (66, 0), (69, 0), (71, 0), (74, 0), (79, 0), (84, 0), (85, 0), (89, 1), (90, 0), (98, 0)]\n",
        "Function is NOT constant under the assignment. Learning its juntas under the assignment...\n",
        "\t======== run 1 ========\n",
        "\tElapsed wall-clock time = 4.215 seconds"
       ]
      },
      {
       "output_type": "stream",
       "stream": "stdout",
       "text": [
        "\n",
        "\tHypothesized indices = [1]\n",
        "\t#queries = 300000\n",
        "\t======== run 2 ========\n",
        "\tElapsed wall-clock time = 4.236 seconds"
       ]
      },
      {
       "output_type": "stream",
       "stream": "stdout",
       "text": [
        "\n",
        "\tHypothesized indices = [1]\n",
        "\t#queries = 300000\n",
        "\t======== run 3 ========\n",
        "\tElapsed wall-clock time = 4.214 seconds"
       ]
      },
      {
       "output_type": "stream",
       "stream": "stdout",
       "text": [
        "\n",
        "\tHypothesized indices = [1]\n",
        "\t#queries = 300000\n",
        "\t========================\n",
        "\tLEARNED juntas = [1]\n",
        "\t#juntas learned >= k. Exiting...\n",
        "#juntas learned >= k. Exiting...\n",
        "_______________________________________________\n",
        "True junta indices      = [ 1  5 12 14 24 26 51 54 55 64 66 69 71 74 79 84 85 89 90 98]\n",
        "Recovered junta indices = [ 1  5 12 14 24 26 51 54 55 64 66 69 71 74 79 84 85 89 90 98]\n",
        "Match? : True\n",
        "\n",
        "Total number of queries = 3897172\n",
        "\n"
       ]
      }
     ],
     "prompt_number": 55
    },
    {
     "cell_type": "code",
     "collapsed": false,
     "input": [],
     "language": "python",
     "metadata": {},
     "outputs": []
    }
   ],
   "metadata": {}
  }
 ]
}